{
 "cells": [
  {
   "cell_type": "code",
   "execution_count": 1,
   "metadata": {},
   "outputs": [],
   "source": [
    "from sklearn.pipeline import make_pipeline\n",
    "from skrebate import ReliefF\n",
    "import numpy as np\n",
    "from sklearn.ensemble import RandomForestClassifier\n",
    "from sklearn.model_selection import cross_val_score\n"
   ]
  },
  {
   "cell_type": "code",
   "execution_count": 2,
   "metadata": {},
   "outputs": [],
   "source": [
    "import pandas as pd\n",
    "df = pd.read_csv('C:/Users/AJ00635713/Downloads/DatasetsGear7.csv')"
   ]
  },
  {
   "cell_type": "code",
   "execution_count": 3,
   "metadata": {},
   "outputs": [
    {
     "data": {
      "text/html": [
       "<div>\n",
       "<style scoped>\n",
       "    .dataframe tbody tr th:only-of-type {\n",
       "        vertical-align: middle;\n",
       "    }\n",
       "\n",
       "    .dataframe tbody tr th {\n",
       "        vertical-align: top;\n",
       "    }\n",
       "\n",
       "    .dataframe thead th {\n",
       "        text-align: right;\n",
       "    }\n",
       "</style>\n",
       "<table border=\"1\" class=\"dataframe\">\n",
       "  <thead>\n",
       "    <tr style=\"text-align: right;\">\n",
       "      <th></th>\n",
       "      <th>MIC1</th>\n",
       "      <th>MIC2</th>\n",
       "      <th>MIC3</th>\n",
       "      <th>MIC4</th>\n",
       "      <th>MIC5</th>\n",
       "      <th>MIC6</th>\n",
       "      <th>MIC7</th>\n",
       "      <th>MIC8</th>\n",
       "      <th>MIC9</th>\n",
       "      <th>MIC10</th>\n",
       "      <th>...</th>\n",
       "      <th>TEMP8</th>\n",
       "      <th>TEMP9</th>\n",
       "      <th>TEMP10</th>\n",
       "      <th>TEMP11</th>\n",
       "      <th>TEMP12</th>\n",
       "      <th>TEMP13</th>\n",
       "      <th>TEMP14</th>\n",
       "      <th>TEMP15</th>\n",
       "      <th>TEMP16</th>\n",
       "      <th>Class</th>\n",
       "    </tr>\n",
       "  </thead>\n",
       "  <tbody>\n",
       "    <tr>\n",
       "      <th>0</th>\n",
       "      <td>0</td>\n",
       "      <td>0.000000</td>\n",
       "      <td>0.0</td>\n",
       "      <td>139.440739</td>\n",
       "      <td>446.788400</td>\n",
       "      <td>0</td>\n",
       "      <td>129227.6336</td>\n",
       "      <td>0</td>\n",
       "      <td>131729.7969</td>\n",
       "      <td>8.443198</td>\n",
       "      <td>...</td>\n",
       "      <td>0.0</td>\n",
       "      <td>-100.605659</td>\n",
       "      <td>0</td>\n",
       "      <td>19.377433</td>\n",
       "      <td>139.383443</td>\n",
       "      <td>0.00000</td>\n",
       "      <td>0</td>\n",
       "      <td>441.66132</td>\n",
       "      <td>0.0</td>\n",
       "      <td>12</td>\n",
       "    </tr>\n",
       "    <tr>\n",
       "      <th>1</th>\n",
       "      <td>0</td>\n",
       "      <td>0.000000</td>\n",
       "      <td>0.0</td>\n",
       "      <td>141.715401</td>\n",
       "      <td>369.993225</td>\n",
       "      <td>0</td>\n",
       "      <td>130639.3594</td>\n",
       "      <td>0</td>\n",
       "      <td>131634.6675</td>\n",
       "      <td>10.267565</td>\n",
       "      <td>...</td>\n",
       "      <td>0.0</td>\n",
       "      <td>-98.250803</td>\n",
       "      <td>0</td>\n",
       "      <td>21.726560</td>\n",
       "      <td>141.749759</td>\n",
       "      <td>0.00000</td>\n",
       "      <td>0</td>\n",
       "      <td>365.48756</td>\n",
       "      <td>0.0</td>\n",
       "      <td>16</td>\n",
       "    </tr>\n",
       "    <tr>\n",
       "      <th>2</th>\n",
       "      <td>0</td>\n",
       "      <td>-40.015372</td>\n",
       "      <td>0.0</td>\n",
       "      <td>-75.138249</td>\n",
       "      <td>402.585999</td>\n",
       "      <td>0</td>\n",
       "      <td>132855.8906</td>\n",
       "      <td>0</td>\n",
       "      <td>134668.5332</td>\n",
       "      <td>9.512408</td>\n",
       "      <td>...</td>\n",
       "      <td>0.0</td>\n",
       "      <td>44.891243</td>\n",
       "      <td>0</td>\n",
       "      <td>164.891524</td>\n",
       "      <td>-75.086119</td>\n",
       "      <td>6.22574</td>\n",
       "      <td>0</td>\n",
       "      <td>394.78516</td>\n",
       "      <td>0.0</td>\n",
       "      <td>33</td>\n",
       "    </tr>\n",
       "    <tr>\n",
       "      <th>3</th>\n",
       "      <td>0</td>\n",
       "      <td>-137.515600</td>\n",
       "      <td>0.0</td>\n",
       "      <td>-80.007827</td>\n",
       "      <td>386.545210</td>\n",
       "      <td>0</td>\n",
       "      <td>129929.6851</td>\n",
       "      <td>0</td>\n",
       "      <td>132101.7813</td>\n",
       "      <td>10.226442</td>\n",
       "      <td>...</td>\n",
       "      <td>0.0</td>\n",
       "      <td>39.940888</td>\n",
       "      <td>0</td>\n",
       "      <td>159.941169</td>\n",
       "      <td>-80.042204</td>\n",
       "      <td>4.94397</td>\n",
       "      <td>0</td>\n",
       "      <td>379.22081</td>\n",
       "      <td>0.0</td>\n",
       "      <td>11</td>\n",
       "    </tr>\n",
       "    <tr>\n",
       "      <th>4</th>\n",
       "      <td>0</td>\n",
       "      <td>0.000000</td>\n",
       "      <td>0.0</td>\n",
       "      <td>105.544555</td>\n",
       "      <td>518.384410</td>\n",
       "      <td>0</td>\n",
       "      <td>128224.7028</td>\n",
       "      <td>0</td>\n",
       "      <td>131188.4219</td>\n",
       "      <td>7.242014</td>\n",
       "      <td>...</td>\n",
       "      <td>0.0</td>\n",
       "      <td>-134.404440</td>\n",
       "      <td>0</td>\n",
       "      <td>-14.409889</td>\n",
       "      <td>105.590392</td>\n",
       "      <td>0.00000</td>\n",
       "      <td>0</td>\n",
       "      <td>513.07422</td>\n",
       "      <td>0.0</td>\n",
       "      <td>23</td>\n",
       "    </tr>\n",
       "  </tbody>\n",
       "</table>\n",
       "<p>5 rows × 131 columns</p>\n",
       "</div>"
      ],
      "text/plain": [
       "   MIC1        MIC2  MIC3        MIC4        MIC5  MIC6         MIC7  MIC8  \\\n",
       "0     0    0.000000   0.0  139.440739  446.788400     0  129227.6336     0   \n",
       "1     0    0.000000   0.0  141.715401  369.993225     0  130639.3594     0   \n",
       "2     0  -40.015372   0.0  -75.138249  402.585999     0  132855.8906     0   \n",
       "3     0 -137.515600   0.0  -80.007827  386.545210     0  129929.6851     0   \n",
       "4     0    0.000000   0.0  105.544555  518.384410     0  128224.7028     0   \n",
       "\n",
       "          MIC9      MIC10  ...  TEMP8       TEMP9  TEMP10      TEMP11  \\\n",
       "0  131729.7969   8.443198  ...    0.0 -100.605659       0   19.377433   \n",
       "1  131634.6675  10.267565  ...    0.0  -98.250803       0   21.726560   \n",
       "2  134668.5332   9.512408  ...    0.0   44.891243       0  164.891524   \n",
       "3  132101.7813  10.226442  ...    0.0   39.940888       0  159.941169   \n",
       "4  131188.4219   7.242014  ...    0.0 -134.404440       0  -14.409889   \n",
       "\n",
       "       TEMP12   TEMP13  TEMP14     TEMP15  TEMP16  Class  \n",
       "0  139.383443  0.00000       0  441.66132     0.0     12  \n",
       "1  141.749759  0.00000       0  365.48756     0.0     16  \n",
       "2  -75.086119  6.22574       0  394.78516     0.0     33  \n",
       "3  -80.042204  4.94397       0  379.22081     0.0     11  \n",
       "4  105.590392  0.00000       0  513.07422     0.0     23  \n",
       "\n",
       "[5 rows x 131 columns]"
      ]
     },
     "execution_count": 3,
     "metadata": {},
     "output_type": "execute_result"
    }
   ],
   "source": [
    "df.head()"
   ]
  },
  {
   "cell_type": "code",
   "execution_count": 4,
   "metadata": {},
   "outputs": [
    {
     "data": {
      "text/plain": [
       "(5236, 131)"
      ]
     },
     "execution_count": 4,
     "metadata": {},
     "output_type": "execute_result"
    }
   ],
   "source": [
    "df.shape"
   ]
  },
  {
   "cell_type": "markdown",
   "metadata": {},
   "source": [
    "# ReliefF"
   ]
  },
  {
   "cell_type": "code",
   "execution_count": 5,
   "metadata": {},
   "outputs": [],
   "source": [
    "features, labels = df.drop('Class', axis=1).values, df['Class'].values\n",
    "\n",
    "clf = make_pipeline(ReliefF(n_features_to_select=2, n_neighbors=100),\n",
    "                    RandomForestClassifier(n_estimators=100))"
   ]
  },
  {
   "cell_type": "code",
   "execution_count": 6,
   "metadata": {},
   "outputs": [],
   "source": [
    "#print(np.mean(cross_val_score(clf, features, labels)))"
   ]
  },
  {
   "cell_type": "code",
   "execution_count": 7,
   "metadata": {},
   "outputs": [],
   "source": [
    "from sklearn.feature_selection import mutual_info_classif\n"
   ]
  },
  {
   "cell_type": "markdown",
   "metadata": {},
   "source": [
    "# mutual info"
   ]
  },
  {
   "cell_type": "code",
   "execution_count": 8,
   "metadata": {},
   "outputs": [
    {
     "data": {
      "text/html": [
       "<div>\n",
       "<style scoped>\n",
       "    .dataframe tbody tr th:only-of-type {\n",
       "        vertical-align: middle;\n",
       "    }\n",
       "\n",
       "    .dataframe tbody tr th {\n",
       "        vertical-align: top;\n",
       "    }\n",
       "\n",
       "    .dataframe thead th {\n",
       "        text-align: right;\n",
       "    }\n",
       "</style>\n",
       "<table border=\"1\" class=\"dataframe\">\n",
       "  <thead>\n",
       "    <tr style=\"text-align: right;\">\n",
       "      <th></th>\n",
       "      <th>features</th>\n",
       "      <th>importance</th>\n",
       "    </tr>\n",
       "  </thead>\n",
       "  <tbody>\n",
       "    <tr>\n",
       "      <th>0</th>\n",
       "      <td>MIC1</td>\n",
       "      <td>0.007092</td>\n",
       "    </tr>\n",
       "    <tr>\n",
       "      <th>1</th>\n",
       "      <td>MIC2</td>\n",
       "      <td>0.427446</td>\n",
       "    </tr>\n",
       "    <tr>\n",
       "      <th>2</th>\n",
       "      <td>MIC3</td>\n",
       "      <td>0.016419</td>\n",
       "    </tr>\n",
       "    <tr>\n",
       "      <th>3</th>\n",
       "      <td>MIC4</td>\n",
       "      <td>2.097300</td>\n",
       "    </tr>\n",
       "    <tr>\n",
       "      <th>4</th>\n",
       "      <td>MIC5</td>\n",
       "      <td>1.208115</td>\n",
       "    </tr>\n",
       "  </tbody>\n",
       "</table>\n",
       "</div>"
      ],
      "text/plain": [
       "  features  importance\n",
       "0     MIC1    0.007092\n",
       "1     MIC2    0.427446\n",
       "2     MIC3    0.016419\n",
       "3     MIC4    2.097300\n",
       "4     MIC5    1.208115"
      ]
     },
     "execution_count": 8,
     "metadata": {},
     "output_type": "execute_result"
    }
   ],
   "source": [
    "newDf = pd.DataFrame({'features': df.drop('Class', axis=1).columns, 'importance':mutual_info_classif(features, labels)})\n",
    "newDf.head()\n",
    "\n"
   ]
  },
  {
   "cell_type": "code",
   "execution_count": 9,
   "metadata": {},
   "outputs": [
    {
     "data": {
      "text/plain": [
       "<matplotlib.axes._subplots.AxesSubplot at 0x23792680a58>"
      ]
     },
     "execution_count": 9,
     "metadata": {},
     "output_type": "execute_result"
    }
   ],
   "source": [
    "newDf.plot.bar(x='features', y='importance', rot=0)"
   ]
  },
  {
   "cell_type": "markdown",
   "metadata": {},
   "source": [
    "# NB SVM DT RNN"
   ]
  },
  {
   "cell_type": "code",
   "execution_count": 14,
   "metadata": {},
   "outputs": [],
   "source": [
    "from sklearn.model_selection import train_test_split\n",
    "\n",
    "X_train, X_test, y_train, y_test = train_test_split(df.drop('Class', axis=1), df['Class'])\n"
   ]
  },
  {
   "cell_type": "code",
   "execution_count": 15,
   "metadata": {},
   "outputs": [
    {
     "data": {
      "text/plain": [
       "(3927, 130)"
      ]
     },
     "execution_count": 15,
     "metadata": {},
     "output_type": "execute_result"
    }
   ],
   "source": [
    "X_train.shape"
   ]
  },
  {
   "cell_type": "code",
   "execution_count": 16,
   "metadata": {},
   "outputs": [
    {
     "data": {
      "text/plain": [
       "(3927,)"
      ]
     },
     "execution_count": 16,
     "metadata": {},
     "output_type": "execute_result"
    }
   ],
   "source": [
    "y_train.shape"
   ]
  },
  {
   "cell_type": "code",
   "execution_count": 20,
   "metadata": {},
   "outputs": [
    {
     "name": "stdout",
     "output_type": "stream",
     "text": [
      "Accuracy of Decision tree model is   81.28342245989305\n"
     ]
    }
   ],
   "source": [
    "from sklearn.tree import DecisionTreeClassifier \n",
    "from sklearn.metrics import accuracy_score\n",
    "dtree_model = DecisionTreeClassifier().fit(X_train, y_train) \n",
    "dtree_predictions = dtree_model.predict(X_test) \n",
    "  \n",
    "# creating a confusion matrix \n",
    "print('Accuracy of Decision tree model is  ',accuracy_score(y_test, dtree_predictions)*100)"
   ]
  },
  {
   "cell_type": "code",
   "execution_count": 21,
   "metadata": {},
   "outputs": [
    {
     "name": "stderr",
     "output_type": "stream",
     "text": [
      "C:\\ProgramData\\Anaconda3\\lib\\site-packages\\sklearn\\svm\\base.py:196: FutureWarning: The default value of gamma will change from 'auto' to 'scale' in version 0.22 to account better for unscaled features. Set gamma explicitly to 'auto' or 'scale' to avoid this warning.\n",
      "  \"avoid this warning.\", FutureWarning)\n"
     ]
    },
    {
     "name": "stdout",
     "output_type": "stream",
     "text": [
      "Accuracy of SVM model is   10.084033613445378\n"
     ]
    }
   ],
   "source": [
    "from sklearn.svm import SVC \n",
    "svm_model_linear = SVC().fit(X_train, y_train) \n",
    "svm_predictions = svm_model_linear.predict(X_test) \n",
    "  \n",
    "# model accuracy for X_test   \n",
    "accuracy = svm_model_linear.score(X_test, y_test) \n",
    "\n",
    "print('Accuracy of SVM model is  ',accuracy_score(y_test, svm_predictions)*100)"
   ]
  },
  {
   "cell_type": "code",
   "execution_count": 26,
   "metadata": {},
   "outputs": [
    {
     "name": "stdout",
     "output_type": "stream",
     "text": [
      "Accuracy of Naive bayes model is   8.861726508785333\n"
     ]
    }
   ],
   "source": [
    "from sklearn.naive_bayes import GaussianNB \n",
    "gnb = GaussianNB().fit(X_train, y_train) \n",
    "gnb_predictions = gnb.predict(X_test) \n",
    "  \n",
    "# accuracy on X_test \n",
    "accuracy = gnb.score(X_test, y_test) \n",
    "\n",
    "\n",
    "print('Accuracy of Naive bayes model is  ',accuracy*100)"
   ]
  },
  {
   "cell_type": "code",
   "execution_count": 27,
   "metadata": {},
   "outputs": [
    {
     "name": "stderr",
     "output_type": "stream",
     "text": [
      "Using TensorFlow backend.\n"
     ]
    }
   ],
   "source": [
    "from keras.utils import np_utils\n",
    "\n",
    "dummy_y = np_utils.to_categorical(y_train)"
   ]
  },
  {
   "cell_type": "code",
   "execution_count": 36,
   "metadata": {},
   "outputs": [
    {
     "name": "stdout",
     "output_type": "stream",
     "text": [
      "Epoch 1/30\n",
      "3927/3927 [==============================] - 0s 54us/step - loss: 15.6871 - acc: 0.0267\n",
      "Epoch 2/30\n",
      "3927/3927 [==============================] - 0s 13us/step - loss: 15.6871 - acc: 0.0267\n",
      "Epoch 3/30\n",
      "3927/3927 [==============================] - 0s 14us/step - loss: 15.6871 - acc: 0.0267\n",
      "Epoch 4/30\n",
      "3927/3927 [==============================] - 0s 13us/step - loss: 15.6871 - acc: 0.0267\n",
      "Epoch 5/30\n",
      "3927/3927 [==============================] - 0s 15us/step - loss: 15.6871 - acc: 0.0267\n",
      "Epoch 6/30\n",
      "3927/3927 [==============================] - 0s 14us/step - loss: 15.6871 - acc: 0.0267\n",
      "Epoch 7/30\n",
      "3927/3927 [==============================] - 0s 14us/step - loss: 15.6871 - acc: 0.0267\n",
      "Epoch 8/30\n",
      "3927/3927 [==============================] - 0s 13us/step - loss: 15.6871 - acc: 0.0267\n",
      "Epoch 9/30\n",
      "3927/3927 [==============================] - 0s 13us/step - loss: 15.6871 - acc: 0.0267\n",
      "Epoch 10/30\n",
      "3927/3927 [==============================] - 0s 14us/step - loss: 15.6871 - acc: 0.0267\n",
      "Epoch 11/30\n",
      "3927/3927 [==============================] - 0s 15us/step - loss: 15.6871 - acc: 0.0267\n",
      "Epoch 12/30\n",
      "3927/3927 [==============================] - 0s 14us/step - loss: 15.6871 - acc: 0.0267\n",
      "Epoch 13/30\n",
      "3927/3927 [==============================] - 0s 13us/step - loss: 15.6871 - acc: 0.0267\n",
      "Epoch 14/30\n",
      "3927/3927 [==============================] - 0s 13us/step - loss: 15.6871 - acc: 0.0267\n",
      "Epoch 15/30\n",
      "3927/3927 [==============================] - 0s 14us/step - loss: 15.6871 - acc: 0.0267\n",
      "Epoch 16/30\n",
      "3927/3927 [==============================] - 0s 14us/step - loss: 15.6871 - acc: 0.0267\n",
      "Epoch 17/30\n",
      "3927/3927 [==============================] - 0s 13us/step - loss: 15.6871 - acc: 0.0267\n",
      "Epoch 18/30\n",
      "3927/3927 [==============================] - 0s 13us/step - loss: 15.6871 - acc: 0.0267\n",
      "Epoch 19/30\n",
      "3927/3927 [==============================] - 0s 13us/step - loss: 15.6871 - acc: 0.0267\n",
      "Epoch 20/30\n",
      "3927/3927 [==============================] - 0s 13us/step - loss: 15.6871 - acc: 0.0267\n",
      "Epoch 21/30\n",
      "3927/3927 [==============================] - 0s 13us/step - loss: 15.6871 - acc: 0.0267\n",
      "Epoch 22/30\n",
      "3927/3927 [==============================] - 0s 14us/step - loss: 15.6871 - acc: 0.0267\n",
      "Epoch 23/30\n",
      "3927/3927 [==============================] - 0s 13us/step - loss: 15.6871 - acc: 0.0267\n",
      "Epoch 24/30\n",
      "3927/3927 [==============================] - 0s 13us/step - loss: 15.6871 - acc: 0.0267\n",
      "Epoch 25/30\n",
      "3927/3927 [==============================] - 0s 13us/step - loss: 15.6871 - acc: 0.0267\n",
      "Epoch 26/30\n",
      "3927/3927 [==============================] - 0s 13us/step - loss: 15.6871 - acc: 0.0267\n",
      "Epoch 27/30\n",
      "3927/3927 [==============================] - 0s 14us/step - loss: 15.6871 - acc: 0.0267\n",
      "Epoch 28/30\n",
      "3927/3927 [==============================] - 0s 14us/step - loss: 15.6871 - acc: 0.0267\n",
      "Epoch 29/30\n",
      "3927/3927 [==============================] - 0s 15us/step - loss: 15.6871 - acc: 0.0267\n",
      "Epoch 30/30\n",
      "3927/3927 [==============================] - 0s 15us/step - loss: 15.6871 - acc: 0.0267\n"
     ]
    },
    {
     "data": {
      "text/plain": [
       "<keras.callbacks.History at 0x2379d41d208>"
      ]
     },
     "execution_count": 36,
     "metadata": {},
     "output_type": "execute_result"
    }
   ],
   "source": [
    "from keras.models import Sequential\n",
    "from keras.layers import Dense\n",
    "\n",
    "model = Sequential()\n",
    "model.add(Dense(8, input_dim=X_train.shape[1], activation='relu'))\n",
    "model.add(Dense(dummy_y.shape[1], activation='softmax'))\n",
    "# Compile model\n",
    "model.compile(loss='categorical_crossentropy', optimizer='adam', metrics=['accuracy'])\n",
    "model.fit(X_train,dummy_y ,epochs=30, batch_size=64)"
   ]
  },
  {
   "cell_type": "code",
   "execution_count": null,
   "metadata": {},
   "outputs": [],
   "source": []
  },
  {
   "cell_type": "code",
   "execution_count": null,
   "metadata": {},
   "outputs": [],
   "source": []
  },
  {
   "cell_type": "code",
   "execution_count": null,
   "metadata": {},
   "outputs": [],
   "source": []
  },
  {
   "cell_type": "code",
   "execution_count": null,
   "metadata": {},
   "outputs": [],
   "source": []
  },
  {
   "cell_type": "code",
   "execution_count": null,
   "metadata": {},
   "outputs": [],
   "source": []
  },
  {
   "cell_type": "code",
   "execution_count": null,
   "metadata": {},
   "outputs": [],
   "source": []
  },
  {
   "cell_type": "code",
   "execution_count": null,
   "metadata": {},
   "outputs": [],
   "source": []
  },
  {
   "cell_type": "code",
   "execution_count": null,
   "metadata": {},
   "outputs": [],
   "source": []
  },
  {
   "cell_type": "code",
   "execution_count": null,
   "metadata": {},
   "outputs": [],
   "source": []
  }
 ],
 "metadata": {
  "kernelspec": {
   "display_name": "Python 3",
   "language": "python",
   "name": "python3"
  },
  "language_info": {
   "codemirror_mode": {
    "name": "ipython",
    "version": 3
   },
   "file_extension": ".py",
   "mimetype": "text/x-python",
   "name": "python",
   "nbconvert_exporter": "python",
   "pygments_lexer": "ipython3",
   "version": "3.7.3"
  }
 },
 "nbformat": 4,
 "nbformat_minor": 2
}
